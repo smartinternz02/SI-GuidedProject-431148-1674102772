{
 "cells": [
  {
   "cell_type": "code",
   "execution_count": 96,
   "id": "bff984ff",
   "metadata": {},
   "outputs": [],
   "source": [
    "import pandas as pd\n",
    "import numpy as np"
   ]
  },
  {
   "cell_type": "code",
   "execution_count": 97,
   "id": "48546b01",
   "metadata": {},
   "outputs": [],
   "source": [
    "dt = pd.read_excel('realstate_dataset.xlsx')"
   ]
  },
  {
   "cell_type": "code",
   "execution_count": 98,
   "id": "2805a86a",
   "metadata": {
    "scrolled": true
   },
   "outputs": [
    {
     "data": {
      "text/html": [
       "<div>\n",
       "<style scoped>\n",
       "    .dataframe tbody tr th:only-of-type {\n",
       "        vertical-align: middle;\n",
       "    }\n",
       "\n",
       "    .dataframe tbody tr th {\n",
       "        vertical-align: top;\n",
       "    }\n",
       "\n",
       "    .dataframe thead th {\n",
       "        text-align: right;\n",
       "    }\n",
       "</style>\n",
       "<table border=\"1\" class=\"dataframe\">\n",
       "  <thead>\n",
       "    <tr style=\"text-align: right;\">\n",
       "      <th></th>\n",
       "      <th>No</th>\n",
       "      <th>X1 transaction date</th>\n",
       "      <th>X2 house age</th>\n",
       "      <th>X3 distance to the nearest MRT station</th>\n",
       "      <th>X4 number of convenience stores</th>\n",
       "      <th>X5 latitude</th>\n",
       "      <th>X6 longitude</th>\n",
       "      <th>Y house price of unit area</th>\n",
       "    </tr>\n",
       "  </thead>\n",
       "  <tbody>\n",
       "    <tr>\n",
       "      <th>0</th>\n",
       "      <td>1</td>\n",
       "      <td>2012.916667</td>\n",
       "      <td>32.0</td>\n",
       "      <td>84.87882</td>\n",
       "      <td>10</td>\n",
       "      <td>24.98298</td>\n",
       "      <td>121.54024</td>\n",
       "      <td>37.9</td>\n",
       "    </tr>\n",
       "    <tr>\n",
       "      <th>1</th>\n",
       "      <td>2</td>\n",
       "      <td>2012.916667</td>\n",
       "      <td>19.5</td>\n",
       "      <td>306.59470</td>\n",
       "      <td>9</td>\n",
       "      <td>24.98034</td>\n",
       "      <td>121.53951</td>\n",
       "      <td>42.2</td>\n",
       "    </tr>\n",
       "    <tr>\n",
       "      <th>2</th>\n",
       "      <td>3</td>\n",
       "      <td>2013.583333</td>\n",
       "      <td>13.3</td>\n",
       "      <td>561.98450</td>\n",
       "      <td>5</td>\n",
       "      <td>24.98746</td>\n",
       "      <td>121.54391</td>\n",
       "      <td>47.3</td>\n",
       "    </tr>\n",
       "    <tr>\n",
       "      <th>3</th>\n",
       "      <td>4</td>\n",
       "      <td>2013.500000</td>\n",
       "      <td>13.3</td>\n",
       "      <td>561.98450</td>\n",
       "      <td>5</td>\n",
       "      <td>24.98746</td>\n",
       "      <td>121.54391</td>\n",
       "      <td>54.8</td>\n",
       "    </tr>\n",
       "    <tr>\n",
       "      <th>4</th>\n",
       "      <td>5</td>\n",
       "      <td>2012.833333</td>\n",
       "      <td>5.0</td>\n",
       "      <td>390.56840</td>\n",
       "      <td>5</td>\n",
       "      <td>24.97937</td>\n",
       "      <td>121.54245</td>\n",
       "      <td>43.1</td>\n",
       "    </tr>\n",
       "  </tbody>\n",
       "</table>\n",
       "</div>"
      ],
      "text/plain": [
       "   No  X1 transaction date  X2 house age  \\\n",
       "0   1          2012.916667          32.0   \n",
       "1   2          2012.916667          19.5   \n",
       "2   3          2013.583333          13.3   \n",
       "3   4          2013.500000          13.3   \n",
       "4   5          2012.833333           5.0   \n",
       "\n",
       "   X3 distance to the nearest MRT station  X4 number of convenience stores  \\\n",
       "0                                84.87882                               10   \n",
       "1                               306.59470                                9   \n",
       "2                               561.98450                                5   \n",
       "3                               561.98450                                5   \n",
       "4                               390.56840                                5   \n",
       "\n",
       "   X5 latitude  X6 longitude  Y house price of unit area  \n",
       "0     24.98298     121.54024                        37.9  \n",
       "1     24.98034     121.53951                        42.2  \n",
       "2     24.98746     121.54391                        47.3  \n",
       "3     24.98746     121.54391                        54.8  \n",
       "4     24.97937     121.54245                        43.1  "
      ]
     },
     "execution_count": 98,
     "metadata": {},
     "output_type": "execute_result"
    }
   ],
   "source": [
    "dt.head()"
   ]
  },
  {
   "cell_type": "code",
   "execution_count": 99,
   "id": "9a7cabd0",
   "metadata": {},
   "outputs": [
    {
     "data": {
      "text/plain": [
       "(414, 8)"
      ]
     },
     "execution_count": 99,
     "metadata": {},
     "output_type": "execute_result"
    }
   ],
   "source": [
    "dt.shape"
   ]
  },
  {
   "cell_type": "code",
   "execution_count": 100,
   "id": "7130ae61",
   "metadata": {},
   "outputs": [],
   "source": [
    "x=dt.iloc[:,1:7]\n",
    "y=dt.iloc[:,7:8]"
   ]
  },
  {
   "cell_type": "code",
   "execution_count": 101,
   "id": "10893775",
   "metadata": {
    "scrolled": true
   },
   "outputs": [
    {
     "name": "stdout",
     "output_type": "stream",
     "text": [
      "<class 'pandas.core.frame.DataFrame'>\n",
      "RangeIndex: 414 entries, 0 to 413\n",
      "Data columns (total 8 columns):\n",
      " #   Column                                  Non-Null Count  Dtype  \n",
      "---  ------                                  --------------  -----  \n",
      " 0   No                                      414 non-null    int64  \n",
      " 1   X1 transaction date                     414 non-null    float64\n",
      " 2   X2 house age                            414 non-null    float64\n",
      " 3   X3 distance to the nearest MRT station  414 non-null    float64\n",
      " 4   X4 number of convenience stores         414 non-null    int64  \n",
      " 5   X5 latitude                             414 non-null    float64\n",
      " 6   X6 longitude                            414 non-null    float64\n",
      " 7   Y house price of unit area              414 non-null    float64\n",
      "dtypes: float64(6), int64(2)\n",
      "memory usage: 26.0 KB\n"
     ]
    }
   ],
   "source": [
    "dt.info()"
   ]
  },
  {
   "cell_type": "code",
   "execution_count": 102,
   "id": "4a21c35b",
   "metadata": {},
   "outputs": [
    {
     "data": {
      "text/plain": [
       "No                                        False\n",
       "X1 transaction date                       False\n",
       "X2 house age                              False\n",
       "X3 distance to the nearest MRT station    False\n",
       "X4 number of convenience stores           False\n",
       "X5 latitude                               False\n",
       "X6 longitude                              False\n",
       "Y house price of unit area                False\n",
       "dtype: bool"
      ]
     },
     "execution_count": 102,
     "metadata": {},
     "output_type": "execute_result"
    }
   ],
   "source": [
    "dt.isnull().any()"
   ]
  },
  {
   "cell_type": "code",
   "execution_count": 103,
   "id": "55e5f51d",
   "metadata": {},
   "outputs": [
    {
     "name": "stderr",
     "output_type": "stream",
     "text": [
      "C:\\Users\\Roshan\\anaconda3\\lib\\site-packages\\seaborn\\_decorators.py:36: FutureWarning: Pass the following variable as a keyword arg: x. From version 0.12, the only valid positional argument will be `data`, and passing other arguments without an explicit keyword will result in an error or misinterpretation.\n",
      "  warnings.warn(\n"
     ]
    },
    {
     "data": {
      "text/plain": [
       "<AxesSubplot:xlabel='X3 distance to the nearest MRT station'>"
      ]
     },
     "execution_count": 103,
     "metadata": {},
     "output_type": "execute_result"
    },
    {
     "data": {
      "image/png": "[encoded data removed]",
      "text/plain": [
       "<Figure size 640x480 with 1 Axes>"
      ]
     },
     "metadata": {},
     "output_type": "display_data"
    }
   ],
   "source": [
    "import seaborn as sns\n",
    "sns.boxplot(dt['X3 distance to the nearest MRT station'])"
   ]
  },
  {
   "cell_type": "code",
   "execution_count": 104,
   "id": "f4fdf07a",
   "metadata": {},
   "outputs": [],
   "source": [
    "lw=dt['X3 distance to the nearest MRT station'].quantile(0.05)\n",
    "up=dt['X3 distance to the nearest MRT station'].quantile(0.95)\n",
    "dt=(dt['X3 distance to the nearest MRT station'] >lw) & (dt['X3 distance to the nearest MRT station'] < up)"
   ]
  },
  {
   "cell_type": "code",
   "execution_count": 105,
   "id": "d4da976a",
   "metadata": {},
   "outputs": [
    {
     "data": {
      "text/plain": [
       "count      414\n",
       "unique       2\n",
       "top       True\n",
       "freq       367\n",
       "Name: X3 distance to the nearest MRT station, dtype: object"
      ]
     },
     "execution_count": 105,
     "metadata": {},
     "output_type": "execute_result"
    }
   ],
   "source": [
    "dt.describe()"
   ]
  },
  {
   "cell_type": "code",
   "execution_count": 106,
   "id": "92b104dd",
   "metadata": {
    "scrolled": true
   },
   "outputs": [
    {
     "data": {
      "text/html": [
       "<div>\n",
       "<style scoped>\n",
       "    .dataframe tbody tr th:only-of-type {\n",
       "        vertical-align: middle;\n",
       "    }\n",
       "\n",
       "    .dataframe tbody tr th {\n",
       "        vertical-align: top;\n",
       "    }\n",
       "\n",
       "    .dataframe thead th {\n",
       "        text-align: right;\n",
       "    }\n",
       "</style>\n",
       "<table border=\"1\" class=\"dataframe\">\n",
       "  <thead>\n",
       "    <tr style=\"text-align: right;\">\n",
       "      <th></th>\n",
       "      <th>X1 transaction date</th>\n",
       "      <th>X2 house age</th>\n",
       "      <th>X3 distance to the nearest MRT station</th>\n",
       "      <th>X4 number of convenience stores</th>\n",
       "      <th>X5 latitude</th>\n",
       "      <th>X6 longitude</th>\n",
       "    </tr>\n",
       "  </thead>\n",
       "  <tbody>\n",
       "    <tr>\n",
       "      <th>0</th>\n",
       "      <td>2012.916667</td>\n",
       "      <td>32.0</td>\n",
       "      <td>84.87882</td>\n",
       "      <td>10</td>\n",
       "      <td>24.98298</td>\n",
       "      <td>121.54024</td>\n",
       "    </tr>\n",
       "    <tr>\n",
       "      <th>1</th>\n",
       "      <td>2012.916667</td>\n",
       "      <td>19.5</td>\n",
       "      <td>306.59470</td>\n",
       "      <td>9</td>\n",
       "      <td>24.98034</td>\n",
       "      <td>121.53951</td>\n",
       "    </tr>\n",
       "    <tr>\n",
       "      <th>2</th>\n",
       "      <td>2013.583333</td>\n",
       "      <td>13.3</td>\n",
       "      <td>561.98450</td>\n",
       "      <td>5</td>\n",
       "      <td>24.98746</td>\n",
       "      <td>121.54391</td>\n",
       "    </tr>\n",
       "    <tr>\n",
       "      <th>3</th>\n",
       "      <td>2013.500000</td>\n",
       "      <td>13.3</td>\n",
       "      <td>561.98450</td>\n",
       "      <td>5</td>\n",
       "      <td>24.98746</td>\n",
       "      <td>121.54391</td>\n",
       "    </tr>\n",
       "    <tr>\n",
       "      <th>4</th>\n",
       "      <td>2012.833333</td>\n",
       "      <td>5.0</td>\n",
       "      <td>390.56840</td>\n",
       "      <td>5</td>\n",
       "      <td>24.97937</td>\n",
       "      <td>121.54245</td>\n",
       "    </tr>\n",
       "    <tr>\n",
       "      <th>...</th>\n",
       "      <td>...</td>\n",
       "      <td>...</td>\n",
       "      <td>...</td>\n",
       "      <td>...</td>\n",
       "      <td>...</td>\n",
       "      <td>...</td>\n",
       "    </tr>\n",
       "    <tr>\n",
       "      <th>409</th>\n",
       "      <td>2013.000000</td>\n",
       "      <td>13.7</td>\n",
       "      <td>4082.01500</td>\n",
       "      <td>0</td>\n",
       "      <td>24.94155</td>\n",
       "      <td>121.50381</td>\n",
       "    </tr>\n",
       "    <tr>\n",
       "      <th>410</th>\n",
       "      <td>2012.666667</td>\n",
       "      <td>5.6</td>\n",
       "      <td>90.45606</td>\n",
       "      <td>9</td>\n",
       "      <td>24.97433</td>\n",
       "      <td>121.54310</td>\n",
       "    </tr>\n",
       "    <tr>\n",
       "      <th>411</th>\n",
       "      <td>2013.250000</td>\n",
       "      <td>18.8</td>\n",
       "      <td>390.96960</td>\n",
       "      <td>7</td>\n",
       "      <td>24.97923</td>\n",
       "      <td>121.53986</td>\n",
       "    </tr>\n",
       "    <tr>\n",
       "      <th>412</th>\n",
       "      <td>2013.000000</td>\n",
       "      <td>8.1</td>\n",
       "      <td>104.81010</td>\n",
       "      <td>5</td>\n",
       "      <td>24.96674</td>\n",
       "      <td>121.54067</td>\n",
       "    </tr>\n",
       "    <tr>\n",
       "      <th>413</th>\n",
       "      <td>2013.500000</td>\n",
       "      <td>6.5</td>\n",
       "      <td>90.45606</td>\n",
       "      <td>9</td>\n",
       "      <td>24.97433</td>\n",
       "      <td>121.54310</td>\n",
       "    </tr>\n",
       "  </tbody>\n",
       "</table>\n",
       "<p>414 rows × 6 columns</p>\n",
       "</div>"
      ],
      "text/plain": [
       "     X1 transaction date  X2 house age  \\\n",
       "0            2012.916667          32.0   \n",
       "1            2012.916667          19.5   \n",
       "2            2013.583333          13.3   \n",
       "3            2013.500000          13.3   \n",
       "4            2012.833333           5.0   \n",
       "..                   ...           ...   \n",
       "409          2013.000000          13.7   \n",
       "410          2012.666667           5.6   \n",
       "411          2013.250000          18.8   \n",
       "412          2013.000000           8.1   \n",
       "413          2013.500000           6.5   \n",
       "\n",
       "     X3 distance to the nearest MRT station  X4 number of convenience stores  \\\n",
       "0                                  84.87882                               10   \n",
       "1                                 306.59470                                9   \n",
       "2                                 561.98450                                5   \n",
       "3                                 561.98450                                5   \n",
       "4                                 390.56840                                5   \n",
       "..                                      ...                              ...   \n",
       "409                              4082.01500                                0   \n",
       "410                                90.45606                                9   \n",
       "411                               390.96960                                7   \n",
       "412                               104.81010                                5   \n",
       "413                                90.45606                                9   \n",
       "\n",
       "     X5 latitude  X6 longitude  \n",
       "0       24.98298     121.54024  \n",
       "1       24.98034     121.53951  \n",
       "2       24.98746     121.54391  \n",
       "3       24.98746     121.54391  \n",
       "4       24.97937     121.54245  \n",
       "..           ...           ...  \n",
       "409     24.94155     121.50381  \n",
       "410     24.97433     121.54310  \n",
       "411     24.97923     121.53986  \n",
       "412     24.96674     121.54067  \n",
       "413     24.97433     121.54310  \n",
       "\n",
       "[414 rows x 6 columns]"
      ]
     },
     "execution_count": 106,
     "metadata": {},
     "output_type": "execute_result"
    }
   ],
   "source": [
    "x"
   ]
  },
  {
   "cell_type": "markdown",
   "id": "3561f726",
   "metadata": {},
   "source": [
    "# Multi Linear Regression"
   ]
  },
  {
   "cell_type": "code",
   "execution_count": 107,
   "id": "25d269c7",
   "metadata": {},
   "outputs": [],
   "source": [
    "from sklearn.linear_model import LinearRegression"
   ]
  },
  {
   "cell_type": "code",
   "execution_count": 108,
   "id": "9ef3b686",
   "metadata": {},
   "outputs": [],
   "source": [
    "lr = LinearRegression()"
   ]
  },
  {
   "cell_type": "code",
   "execution_count": 109,
   "id": "78559dab",
   "metadata": {},
   "outputs": [],
   "source": [
    "from sklearn.model_selection import train_test_split"
   ]
  },
  {
   "cell_type": "code",
   "execution_count": 110,
   "id": "e27c833c",
   "metadata": {},
   "outputs": [],
   "source": [
    "x_train,x_test,y_train,y_test = train_test_split(x,y,test_size=0.3,random_state=20)"
   ]
  },
  {
   "cell_type": "code",
   "execution_count": 111,
   "id": "ddc76fda",
   "metadata": {},
   "outputs": [
    {
     "data": {
      "text/plain": [
       "LinearRegression()"
      ]
     },
     "execution_count": 111,
     "metadata": {},
     "output_type": "execute_result"
    }
   ],
   "source": [
    "lr.fit(x_train,y_train)"
   ]
  },
  {
   "cell_type": "code",
   "execution_count": 112,
   "id": "71eafe00",
   "metadata": {},
   "outputs": [],
   "source": [
    "y_pred=lr.predict(x_test)"
   ]
  },
  {
   "cell_type": "code",
   "execution_count": 113,
   "id": "09978c6d",
   "metadata": {},
   "outputs": [],
   "source": [
    "from sklearn.metrics import r2_score\n"
   ]
  },
  {
   "cell_type": "code",
   "execution_count": 114,
   "id": "c77819c0",
   "metadata": {},
   "outputs": [],
   "source": [
    "import seaborn as sns\n",
    "import matplotlib.pyplot as plt"
   ]
  },
  {
   "cell_type": "code",
   "execution_count": 115,
   "id": "5992feb7",
   "metadata": {},
   "outputs": [
    {
     "data": {
      "text/plain": [
       "<seaborn.axisgrid.FacetGrid at 0x21bbc4e0af0>"
      ]
     },
     "execution_count": 115,
     "metadata": {},
     "output_type": "execute_result"
    },
    {
     "data": {
      "image/png": "[encoded data removed]",
      "text/plain": [
       "<Figure size 820x500 with 1 Axes>"
      ]
     },
     "metadata": {},
     "output_type": "display_data"
    },
    {
     "data": {
      "image/png": "[encoded data removed]",
      "text/plain": [
       "<Figure size 728.125x500 with 1 Axes>"
      ]
     },
     "metadata": {},
     "output_type": "display_data"
    }
   ],
   "source": [
    "sns.displot(x_train)\n",
    "sns.displot(y_train)"
   ]
  },
  {
   "cell_type": "code",
   "execution_count": 116,
   "id": "bed55304",
   "metadata": {},
   "outputs": [],
   "source": [
    "ac=r2_score(y_test,y_pred)"
   ]
  },
  {
   "cell_type": "code",
   "execution_count": 117,
   "id": "59472e27",
   "metadata": {},
   "outputs": [
    {
     "data": {
      "text/plain": [
       "0.6483053449574828"
      ]
     },
     "execution_count": 117,
     "metadata": {},
     "output_type": "execute_result"
    }
   ],
   "source": [
    "ac"
   ]
  },
  {
   "cell_type": "code",
   "execution_count": 118,
   "id": "8928c5fc",
   "metadata": {},
   "outputs": [],
   "source": [
    "from sklearn.preprocessing import StandardScaler"
   ]
  },
  {
   "cell_type": "code",
   "execution_count": 119,
   "id": "5108cd2f",
   "metadata": {},
   "outputs": [],
   "source": [
    "sc=StandardScaler()\n",
    "x_train=sc.fit_transform(x_train)\n",
    "x_test=sc.fit_transform(x_test)"
   ]
  },
  {
   "cell_type": "code",
   "execution_count": 120,
   "id": "9aafb644",
   "metadata": {},
   "outputs": [],
   "source": [
    "import pickle\n",
    "with open('scale.pkl','wb') as f:\n",
    "    pickle.dump(sc,f)"
   ]
  },
  {
   "cell_type": "markdown",
   "id": "326f01cf",
   "metadata": {},
   "source": [
    "\n",
    "# DECISION TREE"
   ]
  },
  {
   "cell_type": "code",
   "execution_count": 121,
   "id": "22119d77",
   "metadata": {},
   "outputs": [],
   "source": [
    "from sklearn.tree import DecisionTreeRegressor\n",
    "x_train,x_test,y_train,y_test = train_test_split(x,y,test_size=0.2,random_state=10)"
   ]
  },
  {
   "cell_type": "code",
   "execution_count": 122,
   "id": "6065803f",
   "metadata": {},
   "outputs": [
    {
     "data": {
      "text/plain": [
       "DecisionTreeRegressor(random_state=40)"
      ]
     },
     "execution_count": 122,
     "metadata": {},
     "output_type": "execute_result"
    }
   ],
   "source": [
    "dtr = DecisionTreeRegressor(random_state=40)\n",
    "dtr.fit(x_train,y_train)"
   ]
  },
  {
   "cell_type": "code",
   "execution_count": 123,
   "id": "8bce4d72",
   "metadata": {},
   "outputs": [],
   "source": [
    "y_pred=dtr.predict(x_test)"
   ]
  },
  {
   "cell_type": "code",
   "execution_count": 124,
   "id": "8334e6ad",
   "metadata": {},
   "outputs": [],
   "source": [
    "from sklearn.metrics import r2_score,mean_absolute_error,mean_squared_error"
   ]
  },
  {
   "cell_type": "code",
   "execution_count": 125,
   "id": "dbc1ed99",
   "metadata": {},
   "outputs": [],
   "source": [
    "ac = r2_score(y_pred,y_test)\n",
    "rm=mean_absolute_error(y_pred,y_test)\n",
    "ms=mean_squared_error(y_pred,y_test)"
   ]
  },
  {
   "cell_type": "code",
   "execution_count": 126,
   "id": "3fd915ae",
   "metadata": {},
   "outputs": [
    {
     "data": {
      "text/plain": [
       "0.6228546701807869"
      ]
     },
     "execution_count": 126,
     "metadata": {},
     "output_type": "execute_result"
    }
   ],
   "source": [
    "ac"
   ]
  },
  {
   "cell_type": "code",
   "execution_count": 127,
   "id": "d9fed639",
   "metadata": {},
   "outputs": [
    {
     "data": {
      "text/plain": [
       "5.479518072289156"
      ]
     },
     "execution_count": 127,
     "metadata": {},
     "output_type": "execute_result"
    }
   ],
   "source": [
    "rm"
   ]
  },
  {
   "cell_type": "code",
   "execution_count": 128,
   "id": "c89aea3e",
   "metadata": {},
   "outputs": [
    {
     "data": {
      "text/plain": [
       "64.2862048192771"
      ]
     },
     "execution_count": 128,
     "metadata": {},
     "output_type": "execute_result"
    }
   ],
   "source": [
    "ms"
   ]
  },
  {
   "cell_type": "markdown",
   "id": "50919241",
   "metadata": {},
   "source": [
    "# Random Forest"
   ]
  },
  {
   "cell_type": "code",
   "execution_count": 129,
   "id": "ba4f19fb",
   "metadata": {},
   "outputs": [],
   "source": [
    "from sklearn.ensemble import RandomForestRegressor\n",
    "x_train,x_test,y_train,y_test = train_test_split(x,y,test_size=0.3,random_state=20)"
   ]
  },
  {
   "cell_type": "code",
   "execution_count": 130,
   "id": "5285e55f",
   "metadata": {},
   "outputs": [
    {
     "name": "stderr",
     "output_type": "stream",
     "text": [
      "C:\\Users\\Roshan\\AppData\\Local\\Temp\\ipykernel_13912\\1814452946.py:2: DataConversionWarning: A column-vector y was passed when a 1d array was expected. Please change the shape of y to (n_samples,), for example using ravel().\n",
      "  rf.fit(x_train,y_train)\n"
     ]
    },
    {
     "data": {
      "text/plain": [
       "RandomForestRegressor(n_estimators=20, random_state=80)"
      ]
     },
     "execution_count": 130,
     "metadata": {},
     "output_type": "execute_result"
    }
   ],
   "source": [
    "rf=RandomForestRegressor(n_estimators=20,random_state=80)\n",
    "rf.fit(x_train,y_train)"
   ]
  },
  {
   "cell_type": "code",
   "execution_count": 131,
   "id": "a2d70ba4",
   "metadata": {},
   "outputs": [],
   "source": [
    "y_pred=rf.predict(x_test)"
   ]
  },
  {
   "cell_type": "code",
   "execution_count": 132,
   "id": "735cefcc",
   "metadata": {},
   "outputs": [],
   "source": [
    "ac = r2_score(y_pred,y_test)\n",
    "rm=mean_absolute_error(y_pred,y_test)\n",
    "ms=mean_squared_error(y_pred,y_test)"
   ]
  },
  {
   "cell_type": "code",
   "execution_count": 133,
   "id": "7e50948d",
   "metadata": {},
   "outputs": [
    {
     "data": {
      "text/plain": [
       "0.7823834718984976"
      ]
     },
     "execution_count": 133,
     "metadata": {},
     "output_type": "execute_result"
    }
   ],
   "source": [
    "ac"
   ]
  },
  {
   "cell_type": "code",
   "execution_count": 134,
   "id": "b7241055",
   "metadata": {},
   "outputs": [
    {
     "data": {
      "text/plain": [
       "4.294445333333332"
      ]
     },
     "execution_count": 134,
     "metadata": {},
     "output_type": "execute_result"
    }
   ],
   "source": [
    "rm"
   ]
  },
  {
   "cell_type": "code",
   "execution_count": 135,
   "id": "102aed79",
   "metadata": {},
   "outputs": [
    {
     "data": {
      "text/plain": [
       "31.404086267111108"
      ]
     },
     "execution_count": 135,
     "metadata": {},
     "output_type": "execute_result"
    }
   ],
   "source": [
    "ms"
   ]
  },
  {
   "cell_type": "markdown",
   "id": "1e8cc716",
   "metadata": {},
   "source": [
    "# ADABOOST"
   ]
  },
  {
   "cell_type": "code",
   "execution_count": 136,
   "id": "eec28cd4",
   "metadata": {},
   "outputs": [],
   "source": [
    "from sklearn.ensemble import AdaBoostRegressor"
   ]
  },
  {
   "cell_type": "code",
   "execution_count": 137,
   "id": "36782fba",
   "metadata": {},
   "outputs": [
    {
     "name": "stderr",
     "output_type": "stream",
     "text": [
      "C:\\Users\\Roshan\\anaconda3\\lib\\site-packages\\sklearn\\utils\\validation.py:993: DataConversionWarning: A column-vector y was passed when a 1d array was expected. Please change the shape of y to (n_samples, ), for example using ravel().\n",
      "  y = column_or_1d(y, warn=True)\n"
     ]
    },
    {
     "data": {
      "text/plain": [
       "AdaBoostRegressor(learning_rate=1, n_estimators=10, random_state=20)"
      ]
     },
     "execution_count": 137,
     "metadata": {},
     "output_type": "execute_result"
    }
   ],
   "source": [
    "adr = AdaBoostRegressor(n_estimators=10,learning_rate=1,random_state=20)\n",
    "x_train,x_test,y_train,y_test = train_test_split(x,y,test_size=0.2,random_state=0)\n",
    "adr.fit(x_train,y_train)"
   ]
  },
  {
   "cell_type": "code",
   "execution_count": 138,
   "id": "c4159dbe",
   "metadata": {},
   "outputs": [],
   "source": [
    "y_pred=adr.predict(x_test)"
   ]
  },
  {
   "cell_type": "code",
   "execution_count": 139,
   "id": "84dfecb4",
   "metadata": {},
   "outputs": [],
   "source": [
    "ac = r2_score(y_pred,y_test)\n",
    "rm=mean_absolute_error(y_pred,y_test)\n",
    "ms=mean_squared_error(y_pred,y_test)"
   ]
  },
  {
   "cell_type": "code",
   "execution_count": 140,
   "id": "53d81911",
   "metadata": {},
   "outputs": [
    {
     "data": {
      "text/plain": [
       "0.6429258588012791"
      ]
     },
     "execution_count": 140,
     "metadata": {},
     "output_type": "execute_result"
    }
   ],
   "source": [
    "ac"
   ]
  },
  {
   "cell_type": "code",
   "execution_count": 141,
   "id": "b2035649",
   "metadata": {},
   "outputs": [
    {
     "data": {
      "text/plain": [
       "5.75077780934734"
      ]
     },
     "execution_count": 141,
     "metadata": {},
     "output_type": "execute_result"
    }
   ],
   "source": [
    "rm"
   ]
  },
  {
   "cell_type": "code",
   "execution_count": 142,
   "id": "90bc8337",
   "metadata": {},
   "outputs": [
    {
     "data": {
      "text/plain": [
       "49.361778748923804"
      ]
     },
     "execution_count": 142,
     "metadata": {},
     "output_type": "execute_result"
    }
   ],
   "source": [
    "ms"
   ]
  },
  {
   "cell_type": "markdown",
   "id": "64b5a86f",
   "metadata": {},
   "source": [
    "# GradientBoost"
   ]
  },
  {
   "cell_type": "code",
   "execution_count": 143,
   "id": "c7a672fa",
   "metadata": {},
   "outputs": [],
   "source": [
    "from sklearn.ensemble import GradientBoostingRegressor"
   ]
  },
  {
   "cell_type": "code",
   "execution_count": 144,
   "id": "7acc7a0c",
   "metadata": {},
   "outputs": [],
   "source": [
    "gbr = GradientBoostingRegressor(max_depth=3,n_estimators=18,learning_rate=1)\n",
    "x_train,x_test,y_train,y_test = train_test_split(x,y,test_size=0.2,random_state=20)"
   ]
  },
  {
   "cell_type": "code",
   "execution_count": 145,
   "id": "cdafacf9",
   "metadata": {},
   "outputs": [
    {
     "name": "stderr",
     "output_type": "stream",
     "text": [
      "C:\\Users\\Roshan\\anaconda3\\lib\\site-packages\\sklearn\\ensemble\\_gb.py:494: DataConversionWarning: A column-vector y was passed when a 1d array was expected. Please change the shape of y to (n_samples, ), for example using ravel().\n",
      "  y = column_or_1d(y, warn=True)\n"
     ]
    },
    {
     "data": {
      "text/plain": [
       "GradientBoostingRegressor(learning_rate=1, n_estimators=18)"
      ]
     },
     "execution_count": 145,
     "metadata": {},
     "output_type": "execute_result"
    }
   ],
   "source": [
    "gbr.fit(x_train,y_train)"
   ]
  },
  {
   "cell_type": "code",
   "execution_count": 146,
   "id": "71ca7784",
   "metadata": {},
   "outputs": [],
   "source": [
    "y_pred=gbr.predict(x_test)"
   ]
  },
  {
   "cell_type": "code",
   "execution_count": 147,
   "id": "f0e94e9d",
   "metadata": {},
   "outputs": [],
   "source": [
    "ac = r2_score(y_pred,y_test)\n",
    "rm=mean_absolute_error(y_pred,y_test)\n",
    "ms=mean_squared_error(y_pred,y_test)"
   ]
  },
  {
   "cell_type": "code",
   "execution_count": 148,
   "id": "72b0a7e9",
   "metadata": {},
   "outputs": [
    {
     "data": {
      "text/plain": [
       "0.6287885766425687"
      ]
     },
     "execution_count": 148,
     "metadata": {},
     "output_type": "execute_result"
    }
   ],
   "source": [
    "ac"
   ]
  },
  {
   "cell_type": "code",
   "execution_count": 149,
   "id": "b4e9e42e",
   "metadata": {},
   "outputs": [
    {
     "data": {
      "text/plain": [
       "5.910123491361106"
      ]
     },
     "execution_count": 149,
     "metadata": {},
     "output_type": "execute_result"
    }
   ],
   "source": [
    "rm"
   ]
  },
  {
   "cell_type": "code",
   "execution_count": 150,
   "id": "df64d88e",
   "metadata": {},
   "outputs": [
    {
     "data": {
      "text/plain": [
       "62.06491847752638"
      ]
     },
     "execution_count": 150,
     "metadata": {},
     "output_type": "execute_result"
    }
   ],
   "source": [
    "ms"
   ]
  },
  {
   "cell_type": "markdown",
   "id": "e32846cf",
   "metadata": {},
   "source": [
    "# XGBOOST"
   ]
  },
  {
   "cell_type": "code",
   "execution_count": 151,
   "id": "20d67ba4",
   "metadata": {},
   "outputs": [],
   "source": [
    "import xgboost"
   ]
  },
  {
   "cell_type": "code",
   "execution_count": 152,
   "id": "2d260b2f",
   "metadata": {},
   "outputs": [],
   "source": [
    "x_train,x_test,y_train,y_test = train_test_split(x,y,test_size=0.2,random_state=80)"
   ]
  },
  {
   "cell_type": "code",
   "execution_count": 153,
   "id": "851818a0",
   "metadata": {},
   "outputs": [],
   "source": [
    "xg = xgboost.XGBRegressor(objective='reg:linear',n_estimators=50,seed=23)"
   ]
  },
  {
   "cell_type": "code",
   "execution_count": 154,
   "id": "e55fa1fd",
   "metadata": {},
   "outputs": [
    {
     "name": "stdout",
     "output_type": "stream",
     "text": [
      "[17:28:23] WARNING: C:/buildkite-agent/builds/buildkite-windows-cpu-autoscaling-group-i-08de971ced8a8cdc6-1/xgboost/xgboost-ci-windows/src/objective/regression_obj.cu:213: reg:linear is now deprecated in favor of reg:squarederror.\n"
     ]
    },
    {
     "data": {
      "text/plain": [
       "XGBRegressor(base_score=None, booster=None, callbacks=None,\n",
       "             colsample_bylevel=None, colsample_bynode=None,\n",
       "             colsample_bytree=None, early_stopping_rounds=None,\n",
       "             enable_categorical=False, eval_metric=None, feature_types=None,\n",
       "             gamma=None, gpu_id=None, grow_policy=None, importance_type=None,\n",
       "             interaction_constraints=None, learning_rate=None, max_bin=None,\n",
       "             max_cat_threshold=None, max_cat_to_onehot=None,\n",
       "             max_delta_step=None, max_depth=None, max_leaves=None,\n",
       "             min_child_weight=None, missing=nan, monotone_constraints=None,\n",
       "             n_estimators=50, n_jobs=None, num_parallel_tree=None,\n",
       "             objective='reg:linear', predictor=None, ...)"
      ]
     },
     "execution_count": 154,
     "metadata": {},
     "output_type": "execute_result"
    }
   ],
   "source": [
    "xg.fit(x_train,y_train)"
   ]
  },
  {
   "cell_type": "code",
   "execution_count": 155,
   "id": "1d2f090a",
   "metadata": {},
   "outputs": [],
   "source": [
    "y_pred = xg.predict(x_test)"
   ]
  },
  {
   "cell_type": "code",
   "execution_count": 156,
   "id": "42e3ab52",
   "metadata": {},
   "outputs": [],
   "source": [
    "ac = r2_score(y_pred,y_test)\n",
    "rm=mean_absolute_error(y_pred,y_test)\n",
    "ms=mean_squared_error(y_pred,y_test)"
   ]
  },
  {
   "cell_type": "code",
   "execution_count": 157,
   "id": "2fe97b23",
   "metadata": {},
   "outputs": [],
   "source": [
    "y=xg.predict(sc.fit_transform([[1980.90,7.0,6.8987,1,78.988,79.900]]))"
   ]
  },
  {
   "cell_type": "code",
   "execution_count": 158,
   "id": "3c00809d",
   "metadata": {},
   "outputs": [
    {
     "data": {
      "text/plain": [
       "0.7340603736466449"
      ]
     },
     "execution_count": 158,
     "metadata": {},
     "output_type": "execute_result"
    }
   ],
   "source": [
    "ac"
   ]
  },
  {
   "cell_type": "code",
   "execution_count": 159,
   "id": "8449be48",
   "metadata": {},
   "outputs": [
    {
     "data": {
      "text/plain": [
       "5.078987788005048"
      ]
     },
     "execution_count": 159,
     "metadata": {},
     "output_type": "execute_result"
    }
   ],
   "source": [
    "rm"
   ]
  },
  {
   "cell_type": "code",
   "execution_count": 160,
   "id": "3084fccc",
   "metadata": {},
   "outputs": [
    {
     "data": {
      "text/plain": [
       "48.92529851028508"
      ]
     },
     "execution_count": 160,
     "metadata": {},
     "output_type": "execute_result"
    }
   ],
   "source": [
    "ms"
   ]
  },
  {
   "cell_type": "code",
   "execution_count": 161,
   "id": "9d041276",
   "metadata": {},
   "outputs": [],
   "source": [
    "import pickle"
   ]
  },
  {
   "cell_type": "code",
   "execution_count": 163,
   "id": "5db188fc",
   "metadata": {},
   "outputs": [],
   "source": [
    "with open('price.pkl','wb') as f:\n",
    "    pickle.dump(rf,f)"
   ]
  },
  {
   "cell_type": "code",
   "execution_count": null,
   "id": "32cc340c",
   "metadata": {},
   "outputs": [],
   "source": []
  }
 ],
 "metadata": {
  "kernelspec": {
   "display_name": "Python 3 (ipykernel)",
   "language": "python",
   "name": "python3"
  },
  "language_info": {
   "codemirror_mode": {
    "name": "ipython",
    "version": 3
   },
   "file_extension": ".py",
   "mimetype": "text/x-python",
   "name": "python",
   "nbconvert_exporter": "python",
   "pygments_lexer": "ipython3",
   "version": "3.9.13"
  }
 },
 "nbformat": 4,
 "nbformat_minor": 5
}
