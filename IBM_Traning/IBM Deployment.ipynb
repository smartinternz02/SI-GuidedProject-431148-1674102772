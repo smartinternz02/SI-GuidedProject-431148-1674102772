{
 "cells": [
  {
   "cell_type": "code",
   "execution_count": 1,
   "id": "780e8fea",
   "metadata": {},
   "outputs": [
    {
     "name": "stdout",
     "output_type": "stream",
     "text": [
      "Requirement already satisfied: ibm-watson-machine-learning in c:\\users\\erics\\anaconda3\\lib\\site-packages (1.0.273)\n",
      "Requirement already satisfied: pandas<1.5.0,>=0.24.2 in c:\\users\\erics\\anaconda3\\lib\\site-packages (from ibm-watson-machine-learning) (1.4.4)\n",
      "Requirement already satisfied: tabulate in c:\\users\\erics\\anaconda3\\lib\\site-packages (from ibm-watson-machine-learning) (0.8.10)\n",
      "Requirement already satisfied: packaging in c:\\users\\erics\\anaconda3\\lib\\site-packages (from ibm-watson-machine-learning) (21.3)\n",
      "Requirement already satisfied: lomond in c:\\users\\erics\\anaconda3\\lib\\site-packages (from ibm-watson-machine-learning) (0.3.3)\n",
      "Requirement already satisfied: requests in c:\\users\\erics\\anaconda3\\lib\\site-packages (from ibm-watson-machine-learning) (2.28.1)\n",
      "Requirement already satisfied: urllib3 in c:\\users\\erics\\anaconda3\\lib\\site-packages (from ibm-watson-machine-learning) (1.26.14)\n",
      "Requirement already satisfied: ibm-cos-sdk==2.11.* in c:\\users\\erics\\anaconda3\\lib\\site-packages (from ibm-watson-machine-learning) (2.11.0)\n",
      "Requirement already satisfied: certifi in c:\\users\\erics\\anaconda3\\lib\\site-packages (from ibm-watson-machine-learning) (2022.9.14)\n",
      "Requirement already satisfied: importlib-metadata in c:\\users\\erics\\anaconda3\\lib\\site-packages (from ibm-watson-machine-learning) (4.11.3)\n",
      "Requirement already satisfied: ibm-cos-sdk-core==2.11.0 in c:\\users\\erics\\anaconda3\\lib\\site-packages (from ibm-cos-sdk==2.11.*->ibm-watson-machine-learning) (2.11.0)\n",
      "Requirement already satisfied: ibm-cos-sdk-s3transfer==2.11.0 in c:\\users\\erics\\anaconda3\\lib\\site-packages (from ibm-cos-sdk==2.11.*->ibm-watson-machine-learning) (2.11.0)\n",
      "Requirement already satisfied: jmespath<1.0.0,>=0.7.1 in c:\\users\\erics\\anaconda3\\lib\\site-packages (from ibm-cos-sdk==2.11.*->ibm-watson-machine-learning) (0.10.0)\n",
      "Requirement already satisfied: python-dateutil<3.0.0,>=2.1 in c:\\users\\erics\\anaconda3\\lib\\site-packages (from ibm-cos-sdk-core==2.11.0->ibm-cos-sdk==2.11.*->ibm-watson-machine-learning) (2.8.2)\n",
      "Requirement already satisfied: pytz>=2020.1 in c:\\users\\erics\\anaconda3\\lib\\site-packages (from pandas<1.5.0,>=0.24.2->ibm-watson-machine-learning) (2022.1)\n",
      "Requirement already satisfied: numpy>=1.18.5 in c:\\users\\erics\\anaconda3\\lib\\site-packages (from pandas<1.5.0,>=0.24.2->ibm-watson-machine-learning) (1.21.5)\n",
      "Requirement already satisfied: charset-normalizer<3,>=2 in c:\\users\\erics\\anaconda3\\lib\\site-packages (from requests->ibm-watson-machine-learning) (2.0.4)\n",
      "Requirement already satisfied: idna<4,>=2.5 in c:\\users\\erics\\anaconda3\\lib\\site-packages (from requests->ibm-watson-machine-learning) (3.3)\n",
      "Requirement already satisfied: zipp>=0.5 in c:\\users\\erics\\anaconda3\\lib\\site-packages (from importlib-metadata->ibm-watson-machine-learning) (3.8.0)\n",
      "Requirement already satisfied: six>=1.10.0 in c:\\users\\erics\\anaconda3\\lib\\site-packages (from lomond->ibm-watson-machine-learning) (1.16.0)\n",
      "Requirement already satisfied: pyparsing!=3.0.5,>=2.0.2 in c:\\users\\erics\\anaconda3\\lib\\site-packages (from packaging->ibm-watson-machine-learning) (3.0.9)\n"
     ]
    },
    {
     "name": "stderr",
     "output_type": "stream",
     "text": [
      "tar: : Couldn't visit directory: No such file or directory\n",
      "tar: Error exit delayed from previous errors.\n"
     ]
    }
   ],
   "source": [
    "!pip install -U ibm-watson-machine-learning\n",
    "!tar -zcvf Parkinson_Disease_Detection_model.tgz parkinson.pkl\n"
   ]
  },
  {
   "cell_type": "code",
   "execution_count": null,
   "id": "2a4f131b",
   "metadata": {},
   "outputs": [],
   "source": [
    "from ibm_watson_machine_learning import APIClient\n",
    "wml_credentials={\"url\":\"https://us-south.ml.cloud.ibm.com\", \n",
    "                 \"apikey\": \"TqjVLPC1pWR766M1FhYVyZBxZ-dc5w4GVCdK_d3i8OelAQ\"\n",
    "                }\n",
    "client=APIClient(wml_credentials)\n",
    "\n",
    "def guide_from_space_name(client,space_name):\n",
    "    space=client.spaces.get_details()\n",
    "    return(next(item for item in space['resources']if item['entity'][\"name\"]==space_name)['metadata']['id'])\n",
    "\n",
    "\n",
    "space_uid=guide_from_space_name(client,'parkinson__deploy')\n",
    "print(\"Space UID =\" + space_uid)\n",
    "\n",
    "\n",
    "client.set.default_space(space_uid)\n",
    "\n",
    "\n",
    "client.software_specifications.list()\n",
    "\n",
    "\n",
    "software_spec_uid=client.software_specifications.get_uid_by_name(\"runtime-22.1-py3.9\")\n",
    "software_spec_uid\n",
    "\n",
    "\n",
    "model_details=client.repository.store_model(model='Parkinson_Disease_Detection_model.tgz',meta_props={client.repository.ModelMetaNames.NAME:\"parkinson_model\",client.repository.ModelMetaNames.TYPE:\"scikit-learn_1.0\",client.repository.ModelMetaNames.SOFTWARE_SPEC_UID:software_spec_uid})\n",
    "model_id=client.repository.get_model_id(model_details)\n",
    "\n",
    "\n",
    "model_id\n",
    "\n",
    "\n",
    "client.repository.download(\"858ef1f1-a8fb-4c67-8af4-b61cfdb1b8d1\",\"parkinson.tar.gz\")\n",
    "\n"
   ]
  }
 ],
 "metadata": {
  "kernelspec": {
   "display_name": "Python 3 (ipykernel)",
   "language": "python",
   "name": "python3"
  },
  "language_info": {
   "codemirror_mode": {
    "name": "ipython",
    "version": 3
   },
   "file_extension": ".py",
   "mimetype": "text/x-python",
   "name": "python",
   "nbconvert_exporter": "python",
   "pygments_lexer": "ipython3",
   "version": "3.9.13"
  }
 },
 "nbformat": 4,
 "nbformat_minor": 5
}
